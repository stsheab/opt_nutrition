{
 "cells": [
  {
   "cell_type": "code",
   "execution_count": 102,
   "metadata": {},
   "outputs": [],
   "source": []
  },
  {
   "cell_type": "markdown",
   "metadata": {},
   "source": [
    "### Price optimized daily diet"
   ]
  },
  {
   "cell_type": "code",
   "execution_count": 1,
   "metadata": {},
   "outputs": [],
   "source": [
    "import matplotlib.pyplot as plt\n",
    "import numpy as np\n",
    "import pandas as pd\n",
    "import scipy.optimize as opt\n",
    "\n",
    "from typing import List, Tuple, Dict"
   ]
  },
  {
   "cell_type": "code",
   "execution_count": null,
   "metadata": {},
   "outputs": [],
   "source": []
  },
  {
   "cell_type": "markdown",
   "metadata": {},
   "source": [
    "#### Initial data"
   ]
  },
  {
   "cell_type": "code",
   "execution_count": 2,
   "metadata": {},
   "outputs": [
    {
     "data": {
      "text/html": [
       "<div>\n",
       "<style scoped>\n",
       "    .dataframe tbody tr th:only-of-type {\n",
       "        vertical-align: middle;\n",
       "    }\n",
       "\n",
       "    .dataframe tbody tr th {\n",
       "        vertical-align: top;\n",
       "    }\n",
       "\n",
       "    .dataframe thead th {\n",
       "        text-align: right;\n",
       "    }\n",
       "</style>\n",
       "<table border=\"1\" class=\"dataframe\">\n",
       "  <thead>\n",
       "    <tr style=\"text-align: right;\">\n",
       "      <th></th>\n",
       "      <th>name</th>\n",
       "      <th>kcal</th>\n",
       "      <th>protein</th>\n",
       "      <th>fat</th>\n",
       "      <th>carbo</th>\n",
       "      <th>price</th>\n",
       "    </tr>\n",
       "  </thead>\n",
       "  <tbody>\n",
       "    <tr>\n",
       "      <th>0</th>\n",
       "      <td>buckwheat</td>\n",
       "      <td>332.9</td>\n",
       "      <td>12.6</td>\n",
       "      <td>3.3</td>\n",
       "      <td>63.2</td>\n",
       "      <td>11</td>\n",
       "    </tr>\n",
       "    <tr>\n",
       "      <th>1</th>\n",
       "      <td>chicken</td>\n",
       "      <td>102.5</td>\n",
       "      <td>20.0</td>\n",
       "      <td>2.5</td>\n",
       "      <td>0.0</td>\n",
       "      <td>30</td>\n",
       "    </tr>\n",
       "    <tr>\n",
       "      <th>2</th>\n",
       "      <td>macaroni</td>\n",
       "      <td>345.7</td>\n",
       "      <td>11.0</td>\n",
       "      <td>1.3</td>\n",
       "      <td>72.5</td>\n",
       "      <td>10</td>\n",
       "    </tr>\n",
       "    <tr>\n",
       "      <th>3</th>\n",
       "      <td>cucumbers</td>\n",
       "      <td>15.2</td>\n",
       "      <td>0.8</td>\n",
       "      <td>0.0</td>\n",
       "      <td>3.0</td>\n",
       "      <td>10</td>\n",
       "    </tr>\n",
       "    <tr>\n",
       "      <th>4</th>\n",
       "      <td>vegetable oil</td>\n",
       "      <td>899.1</td>\n",
       "      <td>0.0</td>\n",
       "      <td>99.9</td>\n",
       "      <td>0.0</td>\n",
       "      <td>15</td>\n",
       "    </tr>\n",
       "    <tr>\n",
       "      <th>5</th>\n",
       "      <td>rice</td>\n",
       "      <td>324.6</td>\n",
       "      <td>7.1</td>\n",
       "      <td>1.0</td>\n",
       "      <td>71.8</td>\n",
       "      <td>11</td>\n",
       "    </tr>\n",
       "    <tr>\n",
       "      <th>6</th>\n",
       "      <td>fish</td>\n",
       "      <td>95.6</td>\n",
       "      <td>18.5</td>\n",
       "      <td>2.4</td>\n",
       "      <td>0.0</td>\n",
       "      <td>30</td>\n",
       "    </tr>\n",
       "    <tr>\n",
       "      <th>7</th>\n",
       "      <td>cheese</td>\n",
       "      <td>353.0</td>\n",
       "      <td>26.0</td>\n",
       "      <td>27.0</td>\n",
       "      <td>1.5</td>\n",
       "      <td>60</td>\n",
       "    </tr>\n",
       "    <tr>\n",
       "      <th>8</th>\n",
       "      <td>curds</td>\n",
       "      <td>101.4</td>\n",
       "      <td>18.0</td>\n",
       "      <td>1.8</td>\n",
       "      <td>3.3</td>\n",
       "      <td>50</td>\n",
       "    </tr>\n",
       "    <tr>\n",
       "      <th>9</th>\n",
       "      <td>bean</td>\n",
       "      <td>60.0</td>\n",
       "      <td>5.0</td>\n",
       "      <td>0.0</td>\n",
       "      <td>10.0</td>\n",
       "      <td>20</td>\n",
       "    </tr>\n",
       "    <tr>\n",
       "      <th>10</th>\n",
       "      <td>bread</td>\n",
       "      <td>233.2</td>\n",
       "      <td>7.6</td>\n",
       "      <td>0.8</td>\n",
       "      <td>48.9</td>\n",
       "      <td>15</td>\n",
       "    </tr>\n",
       "    <tr>\n",
       "      <th>11</th>\n",
       "      <td>egg</td>\n",
       "      <td>74.0</td>\n",
       "      <td>6.3</td>\n",
       "      <td>5.2</td>\n",
       "      <td>0.4</td>\n",
       "      <td>6</td>\n",
       "    </tr>\n",
       "  </tbody>\n",
       "</table>\n",
       "</div>"
      ],
      "text/plain": [
       "             name   kcal  protein   fat  carbo  price\n",
       "0       buckwheat  332.9     12.6   3.3   63.2     11\n",
       "1         chicken  102.5     20.0   2.5    0.0     30\n",
       "2        macaroni  345.7     11.0   1.3   72.5     10\n",
       "3       cucumbers   15.2      0.8   0.0    3.0     10\n",
       "4   vegetable oil  899.1      0.0  99.9    0.0     15\n",
       "5            rice  324.6      7.1   1.0   71.8     11\n",
       "6            fish   95.6     18.5   2.4    0.0     30\n",
       "7          cheese  353.0     26.0  27.0    1.5     60\n",
       "8           curds  101.4     18.0   1.8    3.3     50\n",
       "9            bean   60.0      5.0   0.0   10.0     20\n",
       "10          bread  233.2      7.6   0.8   48.9     15\n",
       "11            egg   74.0      6.3   5.2    0.4      6"
      ]
     },
     "execution_count": 2,
     "metadata": {},
     "output_type": "execute_result"
    }
   ],
   "source": [
    "# all params in 100 g\n",
    "data_full = pd.read_csv(r'nutrition_eng.csv')\n",
    "data_full"
   ]
  },
  {
   "cell_type": "code",
   "execution_count": 3,
   "metadata": {},
   "outputs": [
    {
     "data": {
      "text/plain": [
       "array(['buckwheat', 'chicken', 'macaroni', 'cucumbers', 'vegetable oil',\n",
       "       'rice', 'fish', 'cheese', 'curds', 'bean', 'bread', 'egg'],\n",
       "      dtype=object)"
      ]
     },
     "execution_count": 3,
     "metadata": {},
     "output_type": "execute_result"
    }
   ],
   "source": [
    "data_full.name.values"
   ]
  },
  {
   "cell_type": "markdown",
   "metadata": {},
   "source": [
    "#### Constants"
   ]
  },
  {
   "cell_type": "code",
   "execution_count": 4,
   "metadata": {},
   "outputs": [],
   "source": [
    "# nutrient energetic capacity in kcal/g\n",
    "PROTEIN_1g_kcal = 4.1\n",
    "FAT_1g_kcal = 9.2\n",
    "CARBO_1g_kcal = 4.1\n",
    "\n",
    "all_1g_kcal = np.array([PROTEIN_1g_kcal, FAT_1g_kcal, CARBO_1g_kcal]).reshape(-1,1)"
   ]
  },
  {
   "cell_type": "markdown",
   "metadata": {},
   "source": [
    "#### Constraints"
   ]
  },
  {
   "cell_type": "code",
   "execution_count": 5,
   "metadata": {},
   "outputs": [],
   "source": [
    "energy_daily = 2500 # kcal\n",
    "nutrient_energetic_ratios = [0.15, 0.3, 0.55] # [protein, fat, carbo]"
   ]
  },
  {
   "cell_type": "markdown",
   "metadata": {},
   "source": [
    "#### Selected data"
   ]
  },
  {
   "cell_type": "code",
   "execution_count": 7,
   "metadata": {},
   "outputs": [
    {
     "data": {
      "text/html": [
       "<div>\n",
       "<style scoped>\n",
       "    .dataframe tbody tr th:only-of-type {\n",
       "        vertical-align: middle;\n",
       "    }\n",
       "\n",
       "    .dataframe tbody tr th {\n",
       "        vertical-align: top;\n",
       "    }\n",
       "\n",
       "    .dataframe thead th {\n",
       "        text-align: right;\n",
       "    }\n",
       "</style>\n",
       "<table border=\"1\" class=\"dataframe\">\n",
       "  <thead>\n",
       "    <tr style=\"text-align: right;\">\n",
       "      <th></th>\n",
       "      <th>name</th>\n",
       "      <th>kcal</th>\n",
       "      <th>protein</th>\n",
       "      <th>fat</th>\n",
       "      <th>carbo</th>\n",
       "      <th>price</th>\n",
       "    </tr>\n",
       "  </thead>\n",
       "  <tbody>\n",
       "    <tr>\n",
       "      <th>0</th>\n",
       "      <td>buckwheat</td>\n",
       "      <td>332.9</td>\n",
       "      <td>12.6</td>\n",
       "      <td>3.3</td>\n",
       "      <td>63.2</td>\n",
       "      <td>11</td>\n",
       "    </tr>\n",
       "    <tr>\n",
       "      <th>1</th>\n",
       "      <td>chicken</td>\n",
       "      <td>102.5</td>\n",
       "      <td>20.0</td>\n",
       "      <td>2.5</td>\n",
       "      <td>0.0</td>\n",
       "      <td>30</td>\n",
       "    </tr>\n",
       "    <tr>\n",
       "      <th>4</th>\n",
       "      <td>vegetable oil</td>\n",
       "      <td>899.1</td>\n",
       "      <td>0.0</td>\n",
       "      <td>99.9</td>\n",
       "      <td>0.0</td>\n",
       "      <td>15</td>\n",
       "    </tr>\n",
       "    <tr>\n",
       "      <th>10</th>\n",
       "      <td>bread</td>\n",
       "      <td>233.2</td>\n",
       "      <td>7.6</td>\n",
       "      <td>0.8</td>\n",
       "      <td>48.9</td>\n",
       "      <td>15</td>\n",
       "    </tr>\n",
       "    <tr>\n",
       "      <th>11</th>\n",
       "      <td>egg</td>\n",
       "      <td>74.0</td>\n",
       "      <td>6.3</td>\n",
       "      <td>5.2</td>\n",
       "      <td>0.4</td>\n",
       "      <td>6</td>\n",
       "    </tr>\n",
       "  </tbody>\n",
       "</table>\n",
       "</div>"
      ],
      "text/plain": [
       "             name   kcal  protein   fat  carbo  price\n",
       "0       buckwheat  332.9     12.6   3.3   63.2     11\n",
       "1         chicken  102.5     20.0   2.5    0.0     30\n",
       "4   vegetable oil  899.1      0.0  99.9    0.0     15\n",
       "10          bread  233.2      7.6   0.8   48.9     15\n",
       "11            egg   74.0      6.3   5.2    0.4      6"
      ]
     },
     "execution_count": 7,
     "metadata": {},
     "output_type": "execute_result"
    }
   ],
   "source": [
    "names_selected = np.array(['buckwheat', 'chicken', 'vegetable oil', 'bread', 'egg'])\n",
    "data_selected = data_full.query('name in @names_selected')\n",
    "data_selected"
   ]
  },
  {
   "cell_type": "code",
   "execution_count": 8,
   "metadata": {},
   "outputs": [],
   "source": [
    "class PriceOptimizer:\n",
    "    \n",
    "    def __init__(self):\n",
    "        self.diets = {}\n",
    "    \n",
    "    def define_constraints(self, energy: int, nutrient_ratios: List[float]) -> None:\n",
    "        energy_daily = np.array([energy]).reshape(1,1)\n",
    "        nutrient_energetic_ratios = np.array(nutrient_ratios).reshape(-1,1) # nutrient energetic fractions\n",
    "        nutrient_mass = energy_daily * nutrient_energetic_ratios / all_1g_kcal\n",
    "        self.beq = np.vstack([energy_daily, nutrient_mass]).round(1)\n",
    "        \n",
    "    def optimize_price(self, data: pd.DataFrame, bounds: Tuple[float, float]) -> None:\n",
    "        self.table = data[['name']]\n",
    "        self.price = data.price.values.reshape(-1,1) # in rub\n",
    "        self.Aeq = data.iloc[:,1:5].T.values\n",
    "        self.res = opt.linprog(self.price, A_eq=self.Aeq, b_eq=self.beq, method='simplex', bounds=bounds)\n",
    "        \n",
    "    def res_out(self, diet_key: str) -> Dict[str, pd.DataFrame]:\n",
    "        self.nutrition_amount_opt = self.res.x.reshape(-1,1)\n",
    "        optimal_nutrition = self.table\n",
    "        val = (100 * self.nutrition_amount_opt).round(1)\n",
    "        optimal_nutrition.insert(len(optimal_nutrition.columns), column='opt_amount', value=val)\n",
    "        self.diets[diet_key] = optimal_nutrition\n",
    "        return self.diets\n",
    "    \n",
    "    def print(self, vect: np.array) -> None:\n",
    "        out = pd.DataFrame(vect, index=['energy, kcal', 'protein, g', 'fat, g', 'carbo, g'], columns=[''])\n",
    "        print(out)\n",
    "        print()"
   ]
  },
  {
   "cell_type": "code",
   "execution_count": 9,
   "metadata": {},
   "outputs": [],
   "source": [
    "opter = PriceOptimizer()"
   ]
  },
  {
   "cell_type": "code",
   "execution_count": 10,
   "metadata": {},
   "outputs": [
    {
     "name": "stdout",
     "output_type": "stream",
     "text": [
      "                    \n",
      "energy, kcal  2500.0\n",
      "protein, g      91.5\n",
      "fat, g          81.5\n",
      "carbo, g       335.4\n",
      "\n"
     ]
    }
   ],
   "source": [
    "opter.define_constraints(energy_daily, nutrient_energetic_ratios)\n",
    "opter.print(opter.beq)"
   ]
  },
  {
   "cell_type": "code",
   "execution_count": 11,
   "metadata": {},
   "outputs": [],
   "source": [
    "opter.optimize_price(data_selected, (0,2))"
   ]
  },
  {
   "cell_type": "code",
   "execution_count": 12,
   "metadata": {},
   "outputs": [
    {
     "data": {
      "text/html": [
       "<div>\n",
       "<style scoped>\n",
       "    .dataframe tbody tr th:only-of-type {\n",
       "        vertical-align: middle;\n",
       "    }\n",
       "\n",
       "    .dataframe tbody tr th {\n",
       "        vertical-align: top;\n",
       "    }\n",
       "\n",
       "    .dataframe thead th {\n",
       "        text-align: right;\n",
       "    }\n",
       "</style>\n",
       "<table border=\"1\" class=\"dataframe\">\n",
       "  <thead>\n",
       "    <tr style=\"text-align: right;\">\n",
       "      <th></th>\n",
       "      <th>name</th>\n",
       "      <th>opt_amount</th>\n",
       "    </tr>\n",
       "  </thead>\n",
       "  <tbody>\n",
       "    <tr>\n",
       "      <th>0</th>\n",
       "      <td>buckwheat</td>\n",
       "      <td>200.0</td>\n",
       "    </tr>\n",
       "    <tr>\n",
       "      <th>1</th>\n",
       "      <td>chicken</td>\n",
       "      <td>192.5</td>\n",
       "    </tr>\n",
       "    <tr>\n",
       "      <th>4</th>\n",
       "      <td>vegetable oil</td>\n",
       "      <td>58.1</td>\n",
       "    </tr>\n",
       "    <tr>\n",
       "      <th>10</th>\n",
       "      <td>bread</td>\n",
       "      <td>200.0</td>\n",
       "    </tr>\n",
       "    <tr>\n",
       "      <th>11</th>\n",
       "      <td>egg</td>\n",
       "      <td>200.0</td>\n",
       "    </tr>\n",
       "  </tbody>\n",
       "</table>\n",
       "</div>"
      ],
      "text/plain": [
       "             name  opt_amount\n",
       "0       buckwheat       200.0\n",
       "1         chicken       192.5\n",
       "4   vegetable oil        58.1\n",
       "10          bread       200.0\n",
       "11            egg       200.0"
      ]
     },
     "execution_count": 12,
     "metadata": {},
     "output_type": "execute_result"
    }
   ],
   "source": [
    "opter.res_out('a')['a']"
   ]
  },
  {
   "cell_type": "code",
   "execution_count": 13,
   "metadata": {},
   "outputs": [
    {
     "name": "stdout",
     "output_type": "stream",
     "text": [
      "                    \n",
      "energy, kcal  2000.3\n",
      "protein, g      91.5\n",
      "fat, g          81.5\n",
      "carbo, g       225.0\n",
      "\n",
      "cost_daily, rub: 130.47\n"
     ]
    }
   ],
   "source": [
    "opter.print((opter.Aeq@opter.nutrition_amount_opt).round(1))\n",
    "print(f'cost_daily, rub: {round((opter.price.T@opter.nutrition_amount_opt).item(), 2)}')"
   ]
  },
  {
   "cell_type": "code",
   "execution_count": null,
   "metadata": {},
   "outputs": [],
   "source": []
  }
 ],
 "metadata": {
  "kernelspec": {
   "display_name": "Python 3",
   "language": "python",
   "name": "python3"
  },
  "language_info": {
   "codemirror_mode": {
    "name": "ipython",
    "version": 3
   },
   "file_extension": ".py",
   "mimetype": "text/x-python",
   "name": "python",
   "nbconvert_exporter": "python",
   "pygments_lexer": "ipython3",
   "version": "3.8.0"
  }
 },
 "nbformat": 4,
 "nbformat_minor": 4
}
